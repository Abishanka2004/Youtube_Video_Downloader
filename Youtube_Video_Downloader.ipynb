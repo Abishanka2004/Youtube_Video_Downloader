{
  "nbformat": 4,
  "nbformat_minor": 0,
  "metadata": {
    "colab": {
      "provenance": []
    },
    "kernelspec": {
      "name": "python3",
      "display_name": "Python 3"
    },
    "language_info": {
      "name": "python"
    }
  },
  "cells": [
    {
      "cell_type": "code",
      "execution_count": 1,
      "metadata": {
        "colab": {
          "base_uri": "https://localhost:8080/"
        },
        "id": "T10uOMFdD7oa",
        "outputId": "927f827f-b844-4520-922e-01beb6738355"
      },
      "outputs": [
        {
          "output_type": "stream",
          "name": "stdout",
          "text": [
            "Collecting pytube\n",
            "  Downloading pytube-15.0.0-py3-none-any.whl (57 kB)\n",
            "\u001b[2K     \u001b[90m━━━━━━━━━━━━━━━━━━━━━━━━━━━━━━━━━━━━━━━━\u001b[0m \u001b[32m57.6/57.6 kB\u001b[0m \u001b[31m427.1 kB/s\u001b[0m eta \u001b[36m0:00:00\u001b[0m\n",
            "\u001b[?25hInstalling collected packages: pytube\n",
            "Successfully installed pytube-15.0.0\n"
          ]
        }
      ],
      "source": [
        "pip install pytube"
      ]
    },
    {
      "cell_type": "code",
      "source": [
        "from pytube import YouTube\n",
        "import tkinter as tk\n",
        "from tkinter import filedialog\n",
        "import matplotlib\n",
        "matplotlib.use('Agg')\n",
        "%gui tk"
      ],
      "metadata": {
        "id": "P3rnea3UET8n"
      },
      "execution_count": 19,
      "outputs": []
    },
    {
      "cell_type": "code",
      "source": [
        "def download_video(url, save_path):\n",
        "  try:\n",
        "    yt = YouTube(url)\n",
        "    streams = yt.streams.filter(progressive= True, file_extension=\"mp4\")\n",
        "    highest_res_streams = streams.get_highest_resolution()\n",
        "    highest_res_streams.download(output_path=save_path)\n",
        "    print(\"Video downloaded successfully!\")\n",
        "\n",
        "  except Exception as e:\n",
        "    print(e)\n"
      ],
      "metadata": {
        "id": "yvXETD-JEp-g"
      },
      "execution_count": 20,
      "outputs": []
    },
    {
      "cell_type": "code",
      "source": [
        "url = \"https://www.youtube.com/watch?v=dQw4w9WgXcQ\"\n",
        "save_path = \"/content/sample_data\"\n",
        "\n",
        "download_video(url, save_path)"
      ],
      "metadata": {
        "colab": {
          "base_uri": "https://localhost:8080/"
        },
        "id": "8coEFY9dFcpI",
        "outputId": "984cec71-3505-42eb-dc10-b07e759af754"
      },
      "execution_count": 21,
      "outputs": [
        {
          "output_type": "stream",
          "name": "stdout",
          "text": [
            "Video downloaded successfully!\n"
          ]
        }
      ]
    },
    {
      "cell_type": "code",
      "source": [],
      "metadata": {
        "id": "6lsnbz25H_ks"
      },
      "execution_count": null,
      "outputs": []
    }
  ]
}